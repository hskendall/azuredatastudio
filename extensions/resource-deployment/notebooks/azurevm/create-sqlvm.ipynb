{
    "metadata": {
        "kernelspec": {
            "name": "python3",
            "display_name": "Python 3"
        },
        "language_info": {
            "name": "python",
            "version": "3.6.6",
            "mimetype": "text/x-python",
            "codemirror_mode": {
                "name": "ipython",
                "version": 3
            },
            "pygments_lexer": "ipython3",
            "nbconvert_exporter": "python",
            "file_extension": ".py"
        }
    },
    "nbformat_minor": 2,
    "nbformat": 4,
    "cells": [
        {
            "cell_type": "markdown",
            "source": [
                "Create Azure SQL Virtual Machine\n",
                "============================================\n",
                "\n",
                "Steps of this procedure include:\n",
                "1. Connect to Azure subscription\n",
                "1. Provision resource group for SQL VM migration\n",
                "1. Create a storage account\n",
                "1. Configure Network Settings\n",
                "1. Provision SQL VM\n",
                "1. Configure SQL VM IaaS agent"
            ],
            "metadata": {
                "azdata_cell_guid": "e479b550-d6bd-49c5-965a-34a7d1d16412"
            }
        },
        {
            "cell_type": "markdown",
            "source": [
                "## Notebook setup"
            ],
            "metadata": {
                "azdata_cell_guid": "6251b830-476f-48f2-af1e-3680b541e455"
            }
        },
        {
            "cell_type": "code",
            "source": [
                "import sys, os, json, time, string, random, subprocess\r\n",
                "def run_command(command, json_decode = True, printOutput = True):\n",
                "    print(command)\n",
                "    process = subprocess.Popen(command.split(), stdout=subprocess.PIPE, stderr=subprocess.PIPE, shell=True)\n",
                "    output, error = process.communicate()\n",
                "    if process.returncode != 0: \n",
                "        print(\"Process failed %d \\n%s\" % (process.returncode, error.decode(\"utf-8\")))\n",
                "        raise Exception()\n",
                "    if output:\n",
                "        output = output.decode(\"utf-8\")\n",
                "        if printOutput:\n",
                "            print(output)\n",
                "        try:\n",
                "            return json.loads(output)\n",
                "        except:\n",
                "            return output  return output\r\n",
                "\r\n",
                "def get_random_string(length):\r\n",
                "    letters = string.ascii_lowercase\r\n",
                "    result_str = ''.join(random.choice(letters) for i in range(length))\r\n",
                "    print(\"Random string of length\", length, \"is:\", result_str)\r\n",
                "    return result_str"
            ],
            "metadata": {
                "azdata_cell_guid": "dd0caed8-b12e-4a9e-9705-fdcf5fa3ff7e",
                "tags": []
            },
            "outputs": [],
            "execution_count": null
        },
        {
            "cell_type": "markdown",
            "source": [
                "## Set variables"
            ],
            "metadata": {
                "azdata_cell_guid": "37db2e50-dcde-4dd5-820c-7dc11212f1eb"
            }
        },
        {
            "cell_type": "code",
            "source": [
                "if \"AZDATA_NB_VAR_AZURE_SQLVM_PASSWORD\" in os.environ:\r\n",
                "    azure_sqlvm_password = os.environ[\"AZDATA_NB_VAR_AZURE_SQLVM_PASSWORD\"]"
            ],
            "metadata": {
                "azdata_cell_guid": "d17b46bb-81f1-4a80-b565-cd2883fb2d26"
            },
            "outputs": [],
            "execution_count": null
        },
        {
            "cell_type": "markdown",
            "source": [
                "## Connect to Azure Account"
            ],
            "metadata": {
                "azdata_cell_guid": "b06fee5e-355d-47fc-8c1f-41294756cc87"
            }
        },
        {
            "cell_type": "code",
            "source": [
                "subscriptions = run_command('az account list', printOutput = False)\r\n",
                "if azure_sqlvm_nb_var_subscription not in (subscription[\"id\"] for subscription in subscriptions):\r\n",
                "    run_command('az login')"
            ],
            "metadata": {
                "azdata_cell_guid": "2b35980c-bb65-4ba7-95fd-7f73d8f785b5"
            },
            "outputs": [],
            "execution_count": null
        },
        {
            "cell_type": "markdown",
            "source": [
                "## Set Subscription."
            ],
            "metadata": {
                "azdata_cell_guid": "b58f1048-3e9d-4888-bda0-4d0443a11c97"
            }
        },
        {
            "cell_type": "code",
            "source": [
                "run_command(\r\n",
                "    'az account set '\r\n",
                "    '--subscription {0}'\r\n",
                "    .format(\r\n",
                "        azure_sqlvm_nb_var_subscription));"
            ],
            "metadata": {
                "azdata_cell_guid": "0cc44e68-3810-46f4-b29c-e6ad4321e384"
            },
            "outputs": [],
            "execution_count": null
        },
        {
            "cell_type": "markdown",
            "source": [
                "## Create a storage account\r\n",
                "VMs require storage resources for OS, SQL data and logs. Create a new storage account as a place for it."
            ],
            "metadata": {
                "azdata_cell_guid": "11b78695-40d3-45d7-8e3c-32d086ddf94a"
            }
        },
        {
            "cell_type": "code",
            "source": [
                "storage_account_check = run_command('az storage account check-name --name {0}'\r\n",
                ".format(azure_sqlvm_storageaccountname))\r\n",
                "\r\n",
                "\r\n",
                "if storage_account_check['nameAvailable']:\r\n",
                "    create_storage_account_result = run_command(\r\n",
                "        'az storage account create '\r\n",
                "        '--name {0} '\r\n",
                "        '--resource-group {1} '\r\n",
                "        '--sku {2} '\r\n",
                "        '--kind Storage '\r\n",
                "        '--location {3}'\r\n",
                "        .format(\r\n",
                "            azure_sqlvm_storageaccountname, \r\n",
                "            azure_sqlvm_nb_var_resource_group_name, \r\n",
                "            azure_sqlvm_storagesku, \r\n",
                "            azure_sqlvm_location));"
            ],
            "metadata": {
                "azdata_cell_guid": "f992bf91-a84a-40c2-813b-cb778907370d",
                "tags": []
            },
            "outputs": [],
            "execution_count": null
        },
        {
            "cell_type": "markdown",
            "source": [
                "## Configure network settings\r\n",
                "Create a virtual network, subnet, and a public IP address. These resources are used to provide network connectivity to the virtual machine and connect it to the internet."
            ],
            "metadata": {
                "azdata_cell_guid": "202634eb-7edf-4ff4-8486-fffbda45dbc8"
            }
        },
        {
            "cell_type": "code",
            "source": [
                "subnet_name = azure_sqlvm_nb_var_resource_group_name + \"subnet\"\r\n",
                "vnet_name = azure_sqlvm_nb_var_resource_group_name + \"vnet\"\r\n",
                "pip_name = azure_sqlvm_nb_var_resource_group_name + get_random_string(5)\r\n",
                "\r\n",
                "run_command(\r\n",
                "   'az network vnet create '\r\n",
                "   '--resource-group {0} '\r\n",
                "   '--name {1} '\r\n",
                "   '--location {2} '\r\n",
                "   '--address-prefixes 192.168.0.0/16 '\r\n",
                "   .format(\r\n",
                "      azure_sqlvm_nb_var_resource_group_name, \r\n",
                "      vnet_name, \r\n",
                "      azure_sqlvm_location));\r\n",
                "\r\n",
                "run_command(\r\n",
                "   'az network vnet subnet create '\r\n",
                "   '--name {0} '\r\n",
                "   '--resource-group {1} '\r\n",
                "   '--vnet-name {2} '\r\n",
                "   '--address-prefixes 192.168.1.0/24'\r\n",
                "   .format(\r\n",
                "      subnet_name,\r\n",
                "       azure_sqlvm_nb_var_resource_group_name,\r\n",
                "       vnet_name\r\n",
                "       ));\r\n",
                "\r\n",
                "run_command(\r\n",
                "   'az network public-ip create '\r\n",
                "   '--resource-group {0} '\r\n",
                "   '--location {1} '\r\n",
                "   '--allocation-method Static '\r\n",
                "   '--idle-timeout 4 '\r\n",
                "   '--name {2}'\r\n",
                "   .format(\r\n",
                "      azure_sqlvm_nb_var_resource_group_name, \r\n",
                "      azure_sqlvm_location, \r\n",
                "      pip_name));"
            ],
            "metadata": {
                "azdata_cell_guid": "af88cdae-1a62-4990-9231-094481c9337d"
            },
            "outputs": [],
            "execution_count": null
        },
        {
            "cell_type": "markdown",
            "source": [
                "2. Create a network security group. Configure rules to allow remote desktop (RDP) and SQL Server connections."
            ],
            "metadata": {
                "azdata_cell_guid": "3b25e16e-b150-4a2e-80dc-66f2d18b43fb"
            }
        },
        {
            "cell_type": "code",
            "source": [
                "nsg_name = azure_sqlvm_nb_var_resource_group_name + 'nsg'\r\n",
                "\r\n",
                "run_command(\r\n",
                "   'az network nsg create '\r\n",
                "   '--resource-group {0} '\r\n",
                "   '--location {1} '\r\n",
                "   '--name {2}'\r\n",
                "   .format(\r\n",
                "      azure_sqlvm_nb_var_resource_group_name,\r\n",
                "      azure_sqlvm_location,\r\n",
                "      nsg_name));\r\n",
                "\r\n",
                "\r\n",
                "run_command(\r\n",
                "   'az network nsg rule create '\r\n",
                "   '--name RDPRule '\r\n",
                "   '--nsg-name {0} '\r\n",
                "   '--priority 1000 '\r\n",
                "   '--resource-group {1} '\r\n",
                "   '--protocol Tcp '\r\n",
                "   '--direction Inbound '\r\n",
                "   '--source-address-prefixes * '\r\n",
                "   '--source-port-range * '\r\n",
                "   '--destination-address-prefixes * '\r\n",
                "   '--destination-port-range 3389 '\r\n",
                "   '--access Allow'\r\n",
                "   .format(\r\n",
                "      nsg_name,\r\n",
                "      azure_sqlvm_nb_var_resource_group_name));\r\n",
                "\r\n",
                "run_command(\r\n",
                "   'az network nsg rule create '\r\n",
                "   '--name MSSQLRule '\r\n",
                "   '--nsg-name {0} '\r\n",
                "   '--priority 1001 '\r\n",
                "   '--resource-group {1} '\r\n",
                "   '--protocol Tcp '\r\n",
                "   '--direction Inbound '\r\n",
                "   '--source-address-prefixes * '\r\n",
                "   '--source-port-range * '\r\n",
                "   '--destination-address-prefixes * '\r\n",
                "   '--destination-port-range 1433 '\r\n",
                "   '--access Allow'\r\n",
                "   .format(\r\n",
                "      nsg_name,\r\n",
                "      azure_sqlvm_nb_var_resource_group_name));"
            ],
            "metadata": {
                "azdata_cell_guid": "debe940d-0d0f-4540-be5b-4d6495d338e1"
            },
            "outputs": [],
            "execution_count": null
        },
        {
            "cell_type": "markdown",
            "source": [
                "3. Create the network interface."
            ],
            "metadata": {
                "azdata_cell_guid": "d44de03c-d4f2-48ef-8a60-507069d6c08e"
            }
        },
        {
            "cell_type": "code",
            "source": [
                "interface_name = azure_sqlvm_nb_var_resource_group_name + \"int\"\r\n",
                "\r\n",
                "run_command(\r\n",
                "   'az network nic create '\r\n",
                "   '--name {0} '\r\n",
                "   '--resource-group {1} '\r\n",
                "   '--location {2} '\r\n",
                "   '--subnet {3} '\r\n",
                "   '--vnet-name {4} '\r\n",
                "   '--public-ip-address {5} '\r\n",
                "   '--network-security-group {6}'\r\n",
                "   .format(\r\n",
                "      interface_name,\r\n",
                "      azure_sqlvm_nb_var_resource_group_name,\r\n",
                "      azure_sqlvm_location,\r\n",
                "      subnet_name,\r\n",
                "      vnet_name,\r\n",
                "      pip_name,\r\n",
                "      nsg_name));"
            ],
            "metadata": {
                "azdata_cell_guid": "6dbb3ea0-b52f-4ed2-bd24-59096d134e88"
            },
            "outputs": [],
            "execution_count": null
        },
        {
            "cell_type": "markdown",
            "source": [
                "## Create Virtual Machine"
            ],
            "metadata": {
                "azdata_cell_guid": "c42ec570-331a-46ea-b358-b05e47320967"
            }
        },
        {
            "cell_type": "code",
            "source": [
                "# Create the VM\r\n",
                "run_command(\r\n",
                "   'az vm create '\r\n",
                "   '--name {0} '\r\n",
                "   '--size {1} '\r\n",
                "   '--computer-name {0} '\r\n",
                "   '--admin-username {2} '\r\n",
                "   '--admin-password {3} '\r\n",
                "   '--image {4}:{5}:{6}:{7} '\r\n",
                "   '--nics {8} '\r\n",
                "   '--resource-group {9} '\r\n",
                "   '--location {10} '\r\n",
                "   .format(\r\n",
                "       azure_sqlvm_vmname,\r\n",
                "       azure_sqlvm_vmsize,\r\n",
                "       azure_sqlvm_username,\r\n",
                "       azure_sqlvm_password,\r\n",
                "       azure_sqlvm_publisher,\r\n",
                "       azure_sqlvm_image,\r\n",
                "       azure_sqlvm_image_sku,\r\n",
                "       'latest',\r\n",
                "       interface_name,\r\n",
                "       azure_sqlvm_nb_var_resource_group_name,\r\n",
                "       azure_sqlvm_location\r\n",
                "   )\r\n",
                ");"
            ],
            "metadata": {
                "azdata_cell_guid": "05fa1f3d-94e1-480f-ad20-d3006bafc6ac",
                "tags": []
            },
            "outputs": [],
            "execution_count": null
        },
        {
            "cell_type": "markdown",
            "source": [
                "## Install the SQL IaaS Agent\r\n",
                "To get portal integration and SQL VM features, you must install the SQL Server IaaS Agent Extension. To install the agent on the new VM, run the following command after the VM is created."
            ],
            "metadata": {
                "azdata_cell_guid": "ef07b3d1-3e2d-45f0-b9d3-fb00be2a7da9"
            }
        },
        {
            "cell_type": "code",
            "source": [
                "run_command(\r\n",
                "    'az vm extension set '\r\n",
                "    '--vm-name {0} '\r\n",
                "    '--resource-group {1} '\r\n",
                "    '--name SqlIaaSAgent '\r\n",
                "    '--publisher Microsoft.SqlServer.Management '\r\n",
                "    .format(\r\n",
                "        azure_sqlvm_vmname,\r\n",
                "        azure_sqlvm_nb_var_resource_group_name    \r\n",
                "    )\r\n",
                ");"
            ],
            "metadata": {
                "azdata_cell_guid": "bb3b5436-c34b-44b3-b631-ea60c9dcf16a"
            },
            "outputs": [],
            "execution_count": null
        }
    ]
}